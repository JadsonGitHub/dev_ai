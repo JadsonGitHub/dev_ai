{
 "cells": [
  {
   "cell_type": "markdown",
   "id": "6f0733e7",
   "metadata": {},
   "source": [
    "### RAG - Retrival Aughmented Generation\n"
   ]
  },
  {
   "cell_type": "code",
   "execution_count": 2,
   "id": "1a1936a7",
   "metadata": {},
   "outputs": [],
   "source": [
    "from dotenv import load_dotenv\n",
    "from langchain.chains.question_answering import load_qa_chain\n",
    "from langchain_community.document_loaders import PyPDFLoader\n",
    "from langchain_community.vectorstores import Chroma\n",
    "from langchain_google_genai import (\n",
    "    ChatGoogleGenerativeAI,\n",
    "    GoogleGenerativeAIEmbeddings,\n",
    ")\n",
    "from langchain_text_splitters import RecursiveCharacterTextSplitter\n",
    "\n",
    "# from langchain_openai import ChatOpenAI, OpenAIEmbeddings\n"
   ]
  },
  {
   "cell_type": "code",
   "execution_count": 3,
   "id": "e9d48edd",
   "metadata": {},
   "outputs": [
    {
     "data": {
      "text/plain": [
       "True"
      ]
     },
     "execution_count": 3,
     "metadata": {},
     "output_type": "execute_result"
    }
   ],
   "source": [
    "load_dotenv()"
   ]
  },
  {
   "cell_type": "code",
   "execution_count": null,
   "id": "ce9ae4a8",
   "metadata": {},
   "outputs": [],
   "source": [
    "embeddings_model = GoogleGenerativeAIEmbeddings(model=\"models/embedding-001\")\n",
    "llm = ChatGoogleGenerativeAI(\n",
    "    model=\"gemini-2.5-flash-lite\", max_output_tokens=200\n",
    ")"
   ]
  },
  {
   "cell_type": "code",
   "execution_count": 4,
   "id": "40735dbf",
   "metadata": {},
   "outputs": [],
   "source": [
    "pdf_link = \"docling.pdf\"\n",
    "loader = PyPDFLoader(pdf_link, extract_images=False)\n",
    "pages = loader.load_and_split()"
   ]
  },
  {
   "cell_type": "code",
   "execution_count": 5,
   "id": "ef4dbf08",
   "metadata": {},
   "outputs": [],
   "source": [
    "text_splitter = RecursiveCharacterTextSplitter(\n",
    "    chunk_size=4000,\n",
    "    chunk_overlap=20,\n",
    "    length_function=len,\n",
    "    add_start_index=True,\n",
    ")\n",
    "chunks = text_splitter.split_documents(pages)"
   ]
  },
  {
   "cell_type": "code",
   "execution_count": null,
   "id": "5a3b67b2",
   "metadata": {},
   "outputs": [],
   "source": [
    "db = Chroma.from_documents(\n",
    "    chunks, embedding=embeddings_model, persist_directory=\"text_index\"\n",
    ")"
   ]
  },
  {
   "cell_type": "code",
   "execution_count": null,
   "id": "b32b2b6e",
   "metadata": {},
   "outputs": [],
   "source": [
    "# Carregar DB\n",
    "vectordb = Chroma(\n",
    "    persist_directory=\"text_index\", embedding_function=embeddings_model\n",
    ")\n",
    "# Load Retriver\n",
    "retriver = vectordb.as_retriever(search_kwargs={\"k\": 3})\n",
    "# Construcao da cadeia de prompt para a chamada do LLM\n",
    "chain = load_qa_chain(llm, chain_type=\"stuff\")"
   ]
  },
  {
   "cell_type": "code",
   "execution_count": null,
   "id": "c5eecae1",
   "metadata": {},
   "outputs": [],
   "source": [
    "def ask(question):\n",
    "    context = retriever.get_relevant_documents(question)\n",
    "    answer = (\n",
    "        chain(\n",
    "            {\"imput_documents\": context, \"question\": question},\n",
    "            return_only_outputs=True,\n",
    "        )\n",
    "    )[\"output_text\"]\n",
    "    return answer, context"
   ]
  },
  {
   "cell_type": "code",
   "execution_count": null,
   "id": "d3e1c80e",
   "metadata": {},
   "outputs": [],
   "source": [
    "user_question = input(\"User: \")\n",
    "answer, context = ask(user_question)\n",
    "print(\"Answer: \", answer)"
   ]
  },
  {
   "cell_type": "code",
   "execution_count": null,
   "id": "a12ac079",
   "metadata": {},
   "outputs": [],
   "source": [
    "print(context[0])"
   ]
  }
 ],
 "metadata": {
  "kernelspec": {
   "display_name": "uv-model (3.13.5)",
   "language": "python",
   "name": "python3"
  },
  "language_info": {
   "codemirror_mode": {
    "name": "ipython",
    "version": 3
   },
   "file_extension": ".py",
   "mimetype": "text/x-python",
   "name": "python",
   "nbconvert_exporter": "python",
   "pygments_lexer": "ipython3",
   "version": "3.13.5"
  }
 },
 "nbformat": 4,
 "nbformat_minor": 5
}
